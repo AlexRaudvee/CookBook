{
 "cells": [
  {
   "cell_type": "code",
   "execution_count": 8,
   "metadata": {},
   "outputs": [
    {
     "data": {
      "text/plain": [
       "'<div class=\"center-text\">Добро пожаловать в чат-бот \"Кулинарная книга\"! Этот бот здесь для того, чтобы помочь вам с идеями рецептов,\\nответить на общие кулинарные вопросы и доработать рецепты в соответствии с вашими предпочтениями. \\nВот как извлечь максимальную пользу из общения с этим ботом:</div>\\n\\n#### Step-by-Step Instructions\\n1. Starting the Conversation (by sending a greeting message e.g., \"Hello,\" \"Hi there!\").\\n2. Provide Your List of Ingredients (e.g., \"I have chicken, onion, tomato, pasta...\")\\n3. Request Modifications or Additional Recipes(e.g., \"Can I make this gluten-free?\" or \"What if I don\\'t have eggs?\") or request more recipes if you want additional options.\\n4. Discuss Recipe Adjustments and Tips\\n\\n#### Important Usage Notes\\n    - Data Privacy: To protect your privacy, do not share personal or sensitive information with the bot. Keep your questions focused on recipes, cooking techniques, or ingredients only.\\n    - Development Notice: Please be aware that this chatbot is still in the development stage. While it strives to provide accurate and helpful information, there may be occasional limitations or inconsistencies in responses.\\n'"
      ]
     },
     "execution_count": 8,
     "metadata": {},
     "output_type": "execute_result"
    }
   ],
   "source": [
    "intro_header = \"\"\"<div class=\"center-text\">\n",
    "Welcome to the CookBook Chat Bot! This bot is here to assist you with recipe ideas, \n",
    "answer general cooking questions, and help you modify recipes to suit your preferences. \n",
    "Here’s how to make the most out of your experience with this bot:</div>\n",
    "\n",
    "#### Step-by-Step Instructions\n",
    "1. Starting the Conversation (by sending a greeting message e.g., \"Hello,\" \"Hi there!\").\n",
    "2. Provide Your List of Ingredients (e.g., \"I have chicken, onion, tomato, pasta...\")\n",
    "3. Request Modifications or Additional Recipes(e.g., \"Can I make this gluten-free?\" or \"What if I don't have eggs?\") or request more recipes if you want additional options.\n",
    "4. Discuss Recipe Adjustments and Tips\n",
    "\n",
    "#### Important Usage Notes\n",
    "    - Data Privacy: To protect your privacy, do not share personal or sensitive information with the bot. Keep your questions focused on recipes, cooking techniques, or ingredients only.\n",
    "    - Development Notice: Please be aware that this chatbot is still in the development stage. While it strives to provide accurate and helpful information, there may be occasional limitations or inconsistencies in responses.\n",
    "\"\"\"\n",
    "            \n",
    "from func import translate\n",
    "intro_header = translate(context=intro_header, html=True, to_lang='ru')\n",
    "intro_body = translate(context=intro_header, html=False, to_lang='ru')\n",
    "\n",
    "intro_header"
   ]
  },
  {
   "cell_type": "code",
   "execution_count": null,
   "metadata": {},
   "outputs": [],
   "source": []
  }
 ],
 "metadata": {
  "kernelspec": {
   "display_name": ".venv",
   "language": "python",
   "name": "python3"
  },
  "language_info": {
   "codemirror_mode": {
    "name": "ipython",
    "version": 3
   },
   "file_extension": ".py",
   "mimetype": "text/x-python",
   "name": "python",
   "nbconvert_exporter": "python",
   "pygments_lexer": "ipython3",
   "version": "3.10.14"
  }
 },
 "nbformat": 4,
 "nbformat_minor": 2
}
