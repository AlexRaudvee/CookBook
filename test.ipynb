{
 "cells": [
  {
   "cell_type": "markdown",
   "metadata": {},
   "source": [
    ">>> messages = [{'role':'user', 'parts': ['hello']}]\n",
    ">>> response = model.generate_content(messages) # \"Hello, how can I help\"\n",
    ">>> messages.append(response.candidates[0].content)\n",
    ">>> messages.append({'role':'user', 'parts': ['How does quantum physics work?']})\n",
    ">>> response = model.generate_content(messages)"
   ]
  },
  {
   "cell_type": "code",
   "execution_count": 1,
   "metadata": {},
   "outputs": [
    {
     "name": "stdout",
     "output_type": "stream",
     "text": [
      "### Roasted Chicken and Potatoes with Garlic\n",
      "\n",
      "**Description**: Easy and delicious recipe. Perfect for a weeknight dinner.\n",
      "\n",
      "**Ingredients**:\n",
      "- chicken meat\n",
      "- potatoes\n",
      "- garlic\n",
      "\n",
      "**Instructions**:\n",
      "1. Preheat oven to 400°F (200°C).\n",
      "1. Chop potatoes into 1-inch cubes.\n",
      "1. Mince garlic.\n",
      "1. Toss potatoes and garlic with olive oil, salt, and pepper.\n",
      "1. Place chicken meat and potatoes in a single layer on a baking sheet.\n",
      "1. Roast for 30-40 minutes, or until chicken is cooked through and potatoes are tender.\n",
      "\n",
      "**Comments**: You can add your favorite herbs and spices to this recipe. For example, rosemary, thyme, or paprika.\n",
      "\n",
      "### Chicken and Potato Stew with Garlic\n",
      "\n",
      "**Description**: This is a hearty and flavorful stew, perfect for a chilly evening.\n",
      "\n",
      "**Ingredients**:\n",
      "- chicken meat\n",
      "- potatoes\n",
      "- garlic\n",
      "\n",
      "**Instructions**:\n",
      "1. Chop chicken meat into bite-sized pieces.\n",
      "1. Chop potatoes into 1-inch cubes.\n",
      "1. Mince garlic.\n",
      "1. In a large pot or Dutch oven, heat olive oil over medium heat.\n",
      "1. Add chicken and cook until browned.\n",
      "1. Add potatoes, garlic, and chicken broth.\n",
      "1. Bring to a boil, then reduce heat and simmer for 20-25 minutes, or until potatoes are tender.\n",
      "1. Season with salt, pepper, and other desired herbs and spices.\n",
      "\n",
      "**Comments**: Add vegetable broth for a richer flavor.\n",
      "\n",
      "### Garlic Roasted Potatoes (Vegan)\n",
      "\n",
      "**Description**: A simple and delicious vegan side dish.\n",
      "\n",
      "**Ingredients**:\n",
      "- potatoes\n",
      "- garlic\n",
      "\n",
      "**Instructions**:\n",
      "1. Preheat your oven to 400°F (200°C).\n",
      "1. Wash and chop the potatoes into bite-sized pieces.\n",
      "1. Mince the garlic.\n",
      "1. Toss the potatoes and garlic with olive oil, salt, and pepper.\n",
      "1. Spread the potatoes in a single layer on a baking sheet.\n",
      "1. Roast for 30-40 minutes, or until golden brown and tender.\n",
      "1. Serve as a delicious side dish or as a part of a main course.\n",
      "\n",
      "**Comments**: Feel free to add other spices, such as paprika, rosemary or thyme.\n",
      "\n",
      "\n"
     ]
    }
   ],
   "source": [
    "import re\n",
    "\n",
    "# Sample data\n",
    "data = [\n",
    "    {'recipe_name': 'Roasted Chicken and Potatoes with Garlic'}, \n",
    "    {'description': 'Easy and delicious recipe. Perfect for a weeknight dinner.'},\n",
    "    {'ingredients': [{'product': 'chicken meat'}, {'product': 'potatoes'}, {'product': 'garlic'}]}, \n",
    "    {'instructions': ['Preheat oven to 400°F (200°C).', 'Chop potatoes into 1-inch cubes.', 'Mince garlic.', \n",
    "                      'Toss potatoes and garlic with olive oil, salt, and pepper.', \n",
    "                      'Place chicken meat and potatoes in a single layer on a baking sheet.', \n",
    "                      'Roast for 30-40 minutes, or until chicken is cooked through and potatoes are tender.']}, \n",
    "    {'comments': 'You can add your favorite herbs and spices to this recipe. For example, rosemary, thyme, or paprika.'},\n",
    "    \n",
    "    {'recipe_name': 'Chicken and Potato Stew with Garlic'},\n",
    "    {'description': 'This is a hearty and flavorful stew, perfect for a chilly evening.'}, \n",
    "    {'ingredients': [{'product': 'chicken meat'}, {'product': 'potatoes'}, {'product': 'garlic'}]}, \n",
    "    {'instructions': ['Chop chicken meat into bite-sized pieces.', 'Chop potatoes into 1-inch cubes.', \n",
    "                      'Mince garlic.', 'In a large pot or Dutch oven, heat olive oil over medium heat.', \n",
    "                      'Add chicken and cook until browned.', 'Add potatoes, garlic, and chicken broth.', \n",
    "                      'Bring to a boil, then reduce heat and simmer for 20-25 minutes, or until potatoes are tender.', \n",
    "                      'Season with salt, pepper, and other desired herbs and spices.']}, \n",
    "    {'comments': 'Add vegetable broth for a richer flavor.'},\n",
    "    \n",
    "    {'recipe_name': 'Garlic Roasted Potatoes (Vegan)'},\n",
    "    {'description': 'A simple and delicious vegan side dish.'},\n",
    "    {'ingredients': [{'product': 'potatoes'}, {'product': 'garlic'}]},\n",
    "    {'instructions': ['Preheat your oven to 400°F (200°C).', 'Wash and chop the potatoes into bite-sized pieces.', \n",
    "                      'Mince the garlic.', 'Toss the potatoes and garlic with olive oil, salt, and pepper.', \n",
    "                      'Spread the potatoes in a single layer on a baking sheet.', \n",
    "                      'Roast for 30-40 minutes, or until golden brown and tender.', \n",
    "                      'Serve as a delicious side dish or as a part of a main course.']}, \n",
    "    {'comments': 'Feel free to add other spices, such as paprika, rosemary or thyme.'}\n",
    "]\n",
    "\n",
    "# Parse and format data\n",
    "markdown_output = \"\"\n",
    "current_recipe = {}\n",
    "\n",
    "for entry in data:\n",
    "    if 'recipe_name' in entry:\n",
    "        # Append the previous recipe to the markdown\n",
    "        if current_recipe:\n",
    "            markdown_output += f\"### {current_recipe['recipe_name']}\\n\\n\"\n",
    "            markdown_output += f\"**Description**: {current_recipe.get('description', '')}\\n\\n\"\n",
    "            markdown_output += \"**Ingredients**:\\n\"\n",
    "            for ingredient in current_recipe.get('ingredients', []):\n",
    "                markdown_output += f\"- {ingredient['product']}\\n\"\n",
    "            markdown_output += \"\\n**Instructions**:\\n\"\n",
    "            for step in current_recipe.get('instructions', []):\n",
    "                markdown_output += f\"1. {step}\\n\"\n",
    "            markdown_output += f\"\\n**Comments**: {current_recipe.get('comments', '')}\\n\\n\"\n",
    "        \n",
    "        # Reset and start a new recipe\n",
    "        current_recipe = {\"recipe_name\": entry['recipe_name']}\n",
    "    \n",
    "    elif 'description' in entry:\n",
    "        current_recipe['description'] = entry['description']\n",
    "    \n",
    "    elif 'ingredients' in entry:\n",
    "        current_recipe['ingredients'] = entry['ingredients']\n",
    "    \n",
    "    elif 'instructions' in entry:\n",
    "        current_recipe['instructions'] = entry['instructions']\n",
    "    \n",
    "    elif 'comments' in entry:\n",
    "        current_recipe['comments'] = entry['comments']\n",
    "\n",
    "# Append the final recipe to the markdown\n",
    "if current_recipe:\n",
    "    markdown_output += f\"### {current_recipe['recipe_name']}\\n\\n\"\n",
    "    markdown_output += f\"**Description**: {current_recipe.get('description', '')}\\n\\n\"\n",
    "    markdown_output += \"**Ingredients**:\\n\"\n",
    "    for ingredient in current_recipe.get('ingredients', []):\n",
    "        markdown_output += f\"- {ingredient['product']}\\n\"\n",
    "    markdown_output += \"\\n**Instructions**:\\n\"\n",
    "    for step in current_recipe.get('instructions', []):\n",
    "        markdown_output += f\"1. {step}\\n\"\n",
    "    markdown_output += f\"\\n**Comments**: {current_recipe.get('comments', '')}\\n\\n\"\n",
    "\n",
    "# Print the Markdown output\n",
    "print(markdown_output)\n"
   ]
  },
  {
   "cell_type": "code",
   "execution_count": 6,
   "metadata": {},
   "outputs": [
    {
     "data": {
      "text/plain": [
       "[[1, 2, 4]]"
      ]
     },
     "execution_count": 6,
     "metadata": {},
     "output_type": "execute_result"
    }
   ],
   "source": [
    "a= []\n",
    "\n",
    "def g():\n",
    "    b = [1,2,4]\n",
    "    \n",
    "    a.append(b)\n",
    "    return None\n",
    "g()\n",
    "a"
   ]
  },
  {
   "cell_type": "code",
   "execution_count": 7,
   "metadata": {},
   "outputs": [
    {
     "data": {
      "text/plain": [
       "'helpbro'"
      ]
     },
     "execution_count": 7,
     "metadata": {},
     "output_type": "execute_result"
    }
   ],
   "source": [
    "(\n",
    "    \"help\"\n",
    "    \"bro\"\n",
    ")"
   ]
  },
  {
   "cell_type": "code",
   "execution_count": null,
   "metadata": {},
   "outputs": [],
   "source": []
  }
 ],
 "metadata": {
  "kernelspec": {
   "display_name": ".venv",
   "language": "python",
   "name": "python3"
  },
  "language_info": {
   "codemirror_mode": {
    "name": "ipython",
    "version": 3
   },
   "file_extension": ".py",
   "mimetype": "text/x-python",
   "name": "python",
   "nbconvert_exporter": "python",
   "pygments_lexer": "ipython3",
   "version": "3.12.4"
  }
 },
 "nbformat": 4,
 "nbformat_minor": 2
}
